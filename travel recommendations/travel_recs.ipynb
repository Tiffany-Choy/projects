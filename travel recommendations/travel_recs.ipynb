{
 "cells": [
  {
   "cell_type": "code",
   "execution_count": 19,
   "metadata": {},
   "outputs": [],
   "source": [
    "import pandas as pd\n",
    "from sklearn.feature_extraction.text import CountVectorizer\n",
    "from sklearn.metrics.pairwise import cosine_similarity\n",
    "import pickle"
   ]
  },
  {
   "cell_type": "code",
   "execution_count": 20,
   "metadata": {},
   "outputs": [],
   "source": [
    "places = pd.read_csv('travel-data.csv')"
   ]
  },
  {
   "cell_type": "code",
   "execution_count": 21,
   "metadata": {},
   "outputs": [],
   "source": [
    "places = places[['Trip ID', 'Destination', 'Duration (days)', 'Accommodation type', 'Accommodation cost', 'Transportation type', 'Transportation cost']]\n",
    "places['Accommodation cost'] = places['Accommodation cost'].astype('str') + 'a'\n",
    "places['Transportation cost'] = places['Transportation cost'].astype('str') + 't'\n",
    "places['tags'] = places['Duration (days)'].astype('str') + ' ' + places['Accommodation type'] + ' ' + places['Transportation type'] + ' ' + places['Accommodation cost'] + ' ' + places['Transportation cost']\n",
    "places = places.drop(columns = ['Duration (days)', 'Accommodation type', 'Transportation type', 'Accommodation cost', 'Transportation cost'])"
   ]
  },
  {
   "cell_type": "code",
   "execution_count": 16,
   "metadata": {},
   "outputs": [],
   "source": [
    "cv = CountVectorizer(max_features = 139, stop_words = 'english')\n",
    "vector = cv.fit_transform(places['tags'].values.astype('U')).toarray()\n",
    "similarity = cosine_similarity(vector)"
   ]
  },
  {
   "cell_type": "code",
   "execution_count": 17,
   "metadata": {},
   "outputs": [],
   "source": [
    "def recommend(destination):\n",
    "  index = places[places['Destination'] == destination].index[0]\n",
    "  recommended = sorted(list(enumerate(similarity[index])), reverse = True, key = lambda x: x[1])[0:6]\n",
    "  for i in recommended:\n",
    "    print(places.iloc[i[0]])"
   ]
  },
  {
   "cell_type": "code",
   "execution_count": 18,
   "metadata": {},
   "outputs": [],
   "source": [
    "pickle.dump(places, open('places.pkl', 'wb'))\n",
    "pickle.dump(similarity, open('similarity.pkl', 'wb'))"
   ]
  }
 ],
 "metadata": {
  "kernelspec": {
   "display_name": "Python 3",
   "language": "python",
   "name": "python3"
  },
  "language_info": {
   "codemirror_mode": {
    "name": "ipython",
    "version": 3
   },
   "file_extension": ".py",
   "mimetype": "text/x-python",
   "name": "python",
   "nbconvert_exporter": "python",
   "pygments_lexer": "ipython3",
   "version": "3.11.9"
  }
 },
 "nbformat": 4,
 "nbformat_minor": 2
}
